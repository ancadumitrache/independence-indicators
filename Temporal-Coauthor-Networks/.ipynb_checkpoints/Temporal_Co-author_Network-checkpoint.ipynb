{
 "metadata": {
  "name": ""
 },
 "nbformat": 3,
 "nbformat_minor": 0,
 "worksheets": [
  {
   "cells": [
    {
     "cell_type": "code",
     "collapsed": false,
     "input": [
      "%pylab inline\n",
      "import networkx as nx\n",
      "from pprint import pprint"
     ],
     "language": "python",
     "metadata": {},
     "outputs": [
      {
       "output_type": "stream",
       "stream": "stdout",
       "text": [
        "Populating the interactive namespace from numpy and matplotlib\n"
       ]
      }
     ],
     "prompt_number": 286
    },
    {
     "cell_type": "code",
     "collapsed": false,
     "input": [
      "class TemporalEdge:\n",
      "        def __init__(self,node1,node2):\n",
      "            self.node1 = node1\n",
      "            self.node2 = node2\n",
      "            self.occurences = dict()\n",
      "        \n",
      "        def add(self,weight,time):\n",
      "            if time not in self.occurences:\n",
      "                self.occurences[time] = weight\n",
      "            else:\n",
      "                 self.occurences[time] += weight\n",
      "        \n",
      "        @property\n",
      "        def nodes(self):\n",
      "            return (self.node1,self.node2)\n",
      "        \n",
      "        def weight(self,currentTime):\n",
      "            curDict = {time : weight for time,weight in self.occurences.items() if time <= currentTime}\n",
      "            if curDict:\n",
      "                t = max(curDict.keys())\n",
      "                w = curDict[t]\n",
      "                t = currentTime - t\n",
      "                w *= 0.9**t\n",
      "                return w\n",
      "            else:\n",
      "                return 0\n",
      "            \n",
      "        def __eq__(self,other):\n",
      "            if isinstance(other,type(self)):\n",
      "                return other.node1 == self.node1 and other.node2 == self.node2 and other.occurences == self.occurences\n",
      "            elif isinstance(other,tuple):\n",
      "                if len(other) == 2:\n",
      "                    return self.node1 == other[0] and self.node2 == other[1]\n",
      "            return False\n",
      "        \n",
      "        def __repr__(self):\n",
      "            return \"%s -> %s %s\" % (self.node1,self.node2,self.occurences)"
     ],
     "language": "python",
     "metadata": {},
     "outputs": [],
     "prompt_number": 318
    },
    {
     "cell_type": "code",
     "collapsed": true,
     "input": [
      "class TemporalCoAuthorNetwork:\n",
      "    \n",
      "    def __init__(self):\n",
      "        self.edges = []\n",
      "            \n",
      "    def __repr__(self):\n",
      "        return str(self.edges)\n",
      "    \n",
      "    def addEdge(self,node1,node2,weight,time):\n",
      "        node1, node2 = min(node1,node2),max(node1,node2)\n",
      "        if (node1,node2) not in self.edges:\n",
      "            edge = TemporalEdge(node1,node2)\n",
      "            self.edges.append(edge)\n",
      "        i = self.edges.index((node1,node2))\n",
      "        self.edges[i].add(weight,time)\n",
      "    \n",
      "    def networkAtTime(self,time):\n",
      "        N = nx.Graph()\n",
      "        for edge in self.edges:\n",
      "            w = edge.weight(time)\n",
      "            if w:\n",
      "                print edge.nodes, w\n",
      "                N.add_edge(*edge.nodes,weight = w)\n",
      "        return N\n",
      "    "
     ],
     "language": "python",
     "metadata": {},
     "outputs": [],
     "prompt_number": 337
    },
    {
     "cell_type": "heading",
     "level": 1,
     "metadata": {},
     "source": [
      "Temporal Co-author Networks"
     ]
    },
    {
     "cell_type": "markdown",
     "metadata": {},
     "source": [
      "First create the Co-author network."
     ]
    },
    {
     "cell_type": "code",
     "collapsed": false,
     "input": [
      "N = TemporalCoAuthorNetwork()"
     ],
     "language": "python",
     "metadata": {},
     "outputs": [],
     "prompt_number": 338
    },
    {
     "cell_type": "markdown",
     "metadata": {},
     "source": [
      "Add edges according to the following format:\n",
      "\n",
      "Author 1, Author 2, Amount of papers, Year"
     ]
    },
    {
     "cell_type": "code",
     "collapsed": false,
     "input": [
      "N.addEdge('Paul','Luka',5,10)\n",
      "N.addEdge('Paul','Peter',1,1)\n",
      "N.addEdge('Paul','Peter',2,3)\n",
      "N.addEdge('Paul','Peter',3,5)\n",
      "N.addEdge('Paul','Peter',1,10)\n",
      "N.addEdge('Jacob','Paul',2,1)\n",
      "N.addEdge('Jacob','Paul',3,2)\n",
      "N.addEdge('Jacob','Peter',2,4)"
     ],
     "language": "python",
     "metadata": {},
     "outputs": [],
     "prompt_number": 339
    },
    {
     "cell_type": "markdown",
     "metadata": {},
     "source": [
      "Now to show the network get the network at a certain time point"
     ]
    },
    {
     "cell_type": "code",
     "collapsed": false,
     "input": [
      "for timePoint in [1,5,10]:\n",
      "    networkTime = N.networkAtTime(timePoint)\n",
      "    nx.draw(networkTime)\n",
      "    plt.show()"
     ],
     "language": "python",
     "metadata": {},
     "outputs": [
      {
       "metadata": {},
       "output_type": "display_data",
       "png": "[encoded data removed]",
       "text": [
        "<matplotlib.figure.Figure at 0x105f76590>"
       ]
      },
      {
       "metadata": {},
       "output_type": "display_data",
       "png": "[encoded data removed]",
       "text": [
        "<matplotlib.figure.Figure at 0x108409610>"
       ]
      },
      {
       "metadata": {},
       "output_type": "display_data",
       "png": "[encoded data removed]",
       "text": [
        "<matplotlib.figure.Figure at 0x105f65510>"
       ]
      }
     ],
     "prompt_number": 340
    },
    {
     "cell_type": "code",
     "collapsed": false,
     "input": [
      " "
     ],
     "language": "python",
     "metadata": {},
     "outputs": [],
     "prompt_number": 326
    },
    {
     "cell_type": "code",
     "collapsed": false,
     "input": [],
     "language": "python",
     "metadata": {},
     "outputs": []
    }
   ],
   "metadata": {}
  }
 ]
}