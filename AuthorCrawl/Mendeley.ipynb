{
 "metadata": {
  "name": "",
  "signature": "sha256:6d4c733ad029f0d112573cd36ed0f2785b8399c5a3530b2f793cfad1cffb520e"
 },
 "nbformat": 3,
 "nbformat_minor": 0,
 "worksheets": [
  {
   "cells": [
    {
     "cell_type": "code",
     "collapsed": false,
     "input": [
      "import requests\n",
      "from bs4 import BeautifulSoup\n",
      "import re\n",
      "from string import punctuation"
     ],
     "language": "python",
     "metadata": {},
     "outputs": [],
     "prompt_number": 1
    },
    {
     "cell_type": "code",
     "collapsed": false,
     "input": [
      "page = requests.get('http://www.mendeley.com/people/search/?query=paul+groth+vrije+universiteit+amsterdam')\n",
      "soup = BeautifulSoup(page.text)"
     ],
     "language": "python",
     "metadata": {},
     "outputs": [],
     "prompt_number": 2
    },
    {
     "cell_type": "code",
     "collapsed": false,
     "input": [
      "person = soup.find(\"article\")\n",
      "#do some matching\n",
      "link = person.find('a', href=True)['href']\n",
      "profile = requests.get(link)"
     ],
     "language": "python",
     "metadata": {},
     "outputs": [],
     "prompt_number": 3
    },
    {
     "cell_type": "code",
     "collapsed": false,
     "input": [
      "profile_soup = BeautifulSoup(profile.text)\n",
      "invalid_tags = ['span','br','div']\n",
      "\n",
      "print 'Experiences'\n",
      "for div in profile_soup.findAll('div', id=re.compile('^experiences_info_[\\d]')):\n",
      "    bio = div.find('div',class_=\"prof_bio_right\")\n",
      "    for tag in invalid_tags: \n",
      "        for match in bio.findAll(tag):\n",
      "            match.unwrap()\n",
      "    for item in bio.contents:\n",
      "        if item.strip():\n",
      "            print item.strip()\n",
      "    print '-'\n",
      "\n",
      "print 'Education'\n",
      "for div in profile_soup.findAll('div',id=re.compile('^educations_info_[\\d]')):\n",
      "    bio = div.find('div',class_=\"prof_bio_right\")\n",
      "    for tag in invalid_tags: \n",
      "        for match in bio.findAll(tag):\n",
      "            match.unwrap()\n",
      "    for item in bio.contents:\n",
      "        if item.strip():\n",
      "            print item.strip()\n",
      "    print '-'\n",
      "    "
     ],
     "language": "python",
     "metadata": {},
     "outputs": [
      {
       "output_type": "stream",
       "stream": "stdout",
       "text": [
        "Experiences\n",
        "Assistant Professor at\n",
        "VU University Amsterdam\n",
        "Amsterdam, Netherlands\n",
        "Classes taught:\n",
        "Web-based Knowledge Representation\n",
        "-\n",
        "postdoc at\n",
        "VU University of Amsterdam\n",
        "Amsterdam, Netherlands\n",
        "-\n",
        "postdoc at\n",
        "Information Sciences Institute (University of Southern California)\n",
        "Marina Del Rey, California, United States\n",
        "-\n",
        "Education\n",
        "ECS, University of Southampton\n",
        "in Southampton, United Kingdom\n",
        "Phd Computer Science\n",
        "-\n",
        "University of West Florida\n",
        "in Pensacola, Florida, United States\n",
        "B.S. Computer Science\n",
        "-\n"
       ]
      }
     ],
     "prompt_number": 7
    },
    {
     "cell_type": "code",
     "collapsed": false,
     "input": [],
     "language": "python",
     "metadata": {},
     "outputs": []
    }
   ],
   "metadata": {}
  }
 ]
}